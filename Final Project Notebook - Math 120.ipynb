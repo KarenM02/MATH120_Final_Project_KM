{
 "cells": [
  {
   "cell_type": "markdown",
   "id": "985b1e99",
   "metadata": {},
   "source": [
    "# Project Euler Problems\n",
    "## Final Project \n",
    "### MATH 120 - Math Programming\n",
    "#### Karen Macias"
   ]
  },
  {
   "cell_type": "markdown",
   "id": "b23ed740",
   "metadata": {},
   "source": [
    "Table of Context:\n",
    "   * [Project Euler Problem 30](#problem30)\n",
    "       - [Solution](#solution30)\n",
    "   * [Project Euler Problem 35](#problem35)\n",
    "       - [Solution](#solution35)\n",
    "   * [Project Euler Problem 38](#problem38)\n",
    "       - [Solution](#solution38)"
   ]
  },
  {
   "cell_type": "markdown",
   "id": "1b5a3463",
   "metadata": {},
   "source": [
    "## Problem 30: Digit Fifth Powers <a id='problem30'></a>\n",
    "Surprisingly there are only three numbers that can be written as the sum of fourth powers of their digits:\n",
    "\n",
    "$$1634 = 1^4 + 6^4 + 3^4 + 4^4\\\\\n",
    "8208 = 8^4 + 2^4 + 0^4 + 8^4\\\\\n",
    "9474 = 9^4 + 4^4 + 7^4 + 4^4$$\n",
    "As $1 = 1^4$ is not a sum it is not included.\n",
    "\n",
    "The sum of these numbers is $1634 + 8208 + 9474 = 19316$.\n",
    "\n",
    "Find the sum of all the numbers that can be written as the sum of fifth powers of their digits."
   ]
  },
  {
   "cell_type": "markdown",
   "id": "f4ef5a2f",
   "metadata": {},
   "source": [
    "### Solution <a id='solution30'></a>"
   ]
  },
  {
   "cell_type": "code",
   "execution_count": 9,
   "id": "f8e3298b",
   "metadata": {},
   "outputs": [
    {
     "name": "stdout",
     "output_type": "stream",
     "text": [
      "The numbers that can be written as the sum of fifth powers of their digits are [4150, 4151, 54748, 92727, 93084, 194979] .\n",
      "The sum of these numbers is 443839 .\n",
      "Calculated time of execution is 1.2492642402648926 .\n"
     ]
    }
   ],
   "source": [
    "#time module for calculating execution time\n",
    "import time\n",
    "\n",
    "#time at the start of program execution\n",
    "start = time.time()\n",
    "\n",
    "max_num = 6*9**5\n",
    "\n",
    "def digit_fifth_power(num, p):\n",
    "    '''Finding the sum of all numbers that can be written as the sum of fifth powers of their digits.'''\n",
    "    #our sum is 0\n",
    "    s=0\n",
    "    # individual digit into string\n",
    "    for d in str(num):\n",
    "        #string into digit\n",
    "        s+=(int(d))**p\n",
    "    return s\n",
    "\n",
    "#create an empty list\n",
    "list = []\n",
    "#search from 2 to max used\n",
    "for i in range(2, max_num):\n",
    "    #using our digit fifth power function\n",
    "    if i == digit_fifth_power(i,5):\n",
    "        list.append(i)\n",
    "print('The numbers that can be written as the sum of '\n",
    "      'fifth powers of their digits are', (list), '.')\n",
    "\n",
    "#Find the sum of all the numbers that can be written \n",
    "# as the sum of fifth powers of their digits.\n",
    "print( 'The sum of these numbers is', sum(list), '.')\n",
    "#time at the end of execution\n",
    "end = time.time()\n",
    "\n",
    "#printing the total execution time\n",
    "print('Calculated time of execution is', end - start, '.')"
   ]
  },
  {
   "cell_type": "markdown",
   "id": "532b3abb",
   "metadata": {},
   "source": [
    "## Problem 35: Circular Primes <a id='problem35'></a>\n",
    "The number, $197$, is called a circular prime because all rotations of the digits: $197, 971$, and $719$, are themselves prime.\n",
    "\n",
    "There are thirteen such primes below $100: 2, 3, 5, 7, 11, 13, 17, 31, 37, 71, 73, 79$, and $97$.\n",
    "\n",
    "How many circular primes are there below one million?"
   ]
  },
  {
   "cell_type": "markdown",
   "id": "4dc7f13d",
   "metadata": {},
   "source": [
    "### Solution <a id='solution35'></a>"
   ]
  },
  {
   "cell_type": "code",
   "execution_count": 28,
   "id": "553a39aa",
   "metadata": {},
   "outputs": [
    {
     "name": "stdout",
     "output_type": "stream",
     "text": [
      "Calculated time of execution is -307.7368459701538 .\n"
     ]
    }
   ],
   "source": [
    "#time module for calculating execution time\n",
    "import time\n",
    "\n",
    "#time at the start of program execution\n",
    "start = time.time()\n",
    "\n",
    "def get_circular_nums(num):\n",
    "    '''Function to get circular number'''\n",
    "    # create a number list\n",
    "    num_lst =[]\n",
    "    div = 10\n",
    "    n = 0\n",
    "    # multiply div by 10 until number is larger then original number\n",
    "    while num >= div:\n",
    "        div = div*10\n",
    "        n = n+1\n",
    "        \n",
    "    div = div//10\n",
    "        #add original number\n",
    "    num_lst.append(num)\n",
    "        #create loop by size of digit\n",
    "    for _ in range(n): \n",
    "            #first digit module 10\n",
    "        digit1 = num%10\n",
    "            #other digits\n",
    "        other_digits = num//10\n",
    "        num = digit1*div + other_digits\n",
    "        num_lst.append(num)\n",
    "    return list(set(num_lst))\n",
    "\n",
    "#printing the total execution time\n",
    "print('Calculated time of execution is', end - start, '.')"
   ]
  },
  {
   "cell_type": "code",
   "execution_count": 36,
   "id": "48dce893",
   "metadata": {},
   "outputs": [
    {
     "name": "stdout",
     "output_type": "stream",
     "text": [
      "Calculated time of execution is -726.6639857292175 .\n"
     ]
    }
   ],
   "source": [
    "#time module for calculating execution time\n",
    "import time\n",
    "\n",
    "#time at the start of program execution\n",
    "start = time.time()\n",
    "\n",
    "def get_circular_nums(num):\n",
    "    '''Function to get circular number'''\n",
    "    # create a number list\n",
    "    num_list = []\n",
    "    div = 10\n",
    "    n = 0\n",
    "    # multiply div by 10 until number is larger then original number\n",
    "    while num >= div:\n",
    "        div = div*10\n",
    "        n = n+1\n",
    "        \n",
    "    div = div//10\n",
    "        #add original number\n",
    "    num_list.append(num)\n",
    "        #create loop by size of digit\n",
    "    for _ in range(n): \n",
    "            #first digit module 10\n",
    "        digit1 = num%10\n",
    "            #other digits\n",
    "        other_digits = num//10\n",
    "        num = digit1*div + other_digits\n",
    "        num_list.append(num)\n",
    "    return (set(num_list))\n",
    "\n",
    "#printing the total execution time\n",
    "print('Calculated time of execution is', end - start, '.')"
   ]
  },
  {
   "cell_type": "code",
   "execution_count": 37,
   "id": "c08953c2",
   "metadata": {},
   "outputs": [
    {
     "data": {
      "text/plain": [
       "{4444}"
      ]
     },
     "execution_count": 37,
     "metadata": {},
     "output_type": "execute_result"
    }
   ],
   "source": [
    "get_circular_nums(4444)"
   ]
  },
  {
   "cell_type": "code",
   "execution_count": 38,
   "id": "72ec3dc1",
   "metadata": {},
   "outputs": [
    {
     "name": "stdout",
     "output_type": "stream",
     "text": [
      "Calculated time of execution is -729.0095889568329 .\n"
     ]
    }
   ],
   "source": [
    "#time at the start of program execution\n",
    "start = time.time()\n",
    "\n",
    "# prime functions\n",
    "def is_prime(num):\n",
    "    '''function tells us if number is prime'''\n",
    "    #prime\n",
    "    if num == 2:\n",
    "        return True\n",
    "    #not prime\n",
    "    if num%2 == 0:\n",
    "        return False\n",
    "    for i in range (3, int(num**.5)+1, 2):\n",
    "        if num%i==0:\n",
    "            return False\n",
    "    return True\n",
    "\n",
    "#printing the total execution time\n",
    "print('Calculated time of execution is', end - start, '.')"
   ]
  },
  {
   "cell_type": "code",
   "execution_count": 39,
   "id": "49d3af24",
   "metadata": {},
   "outputs": [
    {
     "data": {
      "text/plain": [
       "True"
      ]
     },
     "execution_count": 39,
     "metadata": {},
     "output_type": "execute_result"
    }
   ],
   "source": [
    "is_prime(3)"
   ]
  },
  {
   "cell_type": "code",
   "execution_count": 40,
   "id": "7c7abf38",
   "metadata": {},
   "outputs": [
    {
     "name": "stdout",
     "output_type": "stream",
     "text": [
      "Calculated time of execution is -730.9398620128632 .\n"
     ]
    }
   ],
   "source": [
    "#time at the start of program execution\n",
    "start = time.time()\n",
    "\n",
    "#need to check prime numbers under one million\n",
    "prime_dict = {}\n",
    "for i in range (1, 1000_000):\n",
    "    prime_dict[i] = is_prime(i)\n",
    "\n",
    "\n",
    "#printing the total execution time\n",
    "print('Calculated time of execution is', end - start, '.')"
   ]
  },
  {
   "cell_type": "code",
   "execution_count": 41,
   "id": "f1cec32e",
   "metadata": {},
   "outputs": [],
   "source": [
    "#find circular prime list\n",
    "circ_prime_list = []\n",
    "# search from 2 to 1 million\n",
    "for i in range(2,1000000):\n",
    "    #create a flag because we only want the primes\n",
    "    prime_flag = True\n",
    "    #create loop to get all circular numbers\n",
    "    for num in get_circular_nums(i):\n",
    "        #all have to be prime if not prime change to false\n",
    "        if not prime_dict[num]:\n",
    "            prime_flag = False\n",
    "    if prime_flag:\n",
    "        circ_prime_list.append(i)"
   ]
  },
  {
   "cell_type": "code",
   "execution_count": 42,
   "id": "54b122c3",
   "metadata": {},
   "outputs": [
    {
     "name": "stdout",
     "output_type": "stream",
     "text": [
      "[2, 3, 5, 7, 11, 13, 17, 31, 37, 71, 73, 79, 97, 113, 131, 197, 199, 311, 337, 373, 719, 733, 919, 971, 991, 1193, 1931, 3119, 3779, 7793, 7937, 9311, 9377, 11939, 19391, 19937, 37199, 39119, 71993, 91193, 93719, 93911, 99371, 193939, 199933, 319993, 331999, 391939, 393919, 919393, 933199, 939193, 939391, 993319, 999331]\n",
      "Calculated time of execution is -737.9903998374939 .\n"
     ]
    }
   ],
   "source": [
    "#time at the start of program execution\n",
    "start = time.time()\n",
    "print(circ_prime_list)\n",
    "\n",
    "#printing the total execution time\n",
    "print('Calculated time of execution is', end - start, '.')"
   ]
  },
  {
   "cell_type": "code",
   "execution_count": 43,
   "id": "bebc7ea2",
   "metadata": {},
   "outputs": [
    {
     "name": "stdout",
     "output_type": "stream",
     "text": [
      "There are 55 circular primes below 1 million.\n"
     ]
    }
   ],
   "source": [
    "#check length\n",
    "print('There are',(len(circ_prime_list)), 'circular primes below 1 million.')"
   ]
  },
  {
   "cell_type": "code",
   "execution_count": 44,
   "id": "a13482b6",
   "metadata": {},
   "outputs": [
    {
     "name": "stdout",
     "output_type": "stream",
     "text": [
      "4\n"
     ]
    }
   ],
   "source": [
    "#How many digits in the number?\n",
    "num = 23455\n",
    "n=0\n",
    "div=10\n",
    "# multiply div by 10 until number is larger then original number\n",
    "while num >= div:\n",
    "    div = div*10\n",
    "    n = n+1\n",
    "print(n)"
   ]
  },
  {
   "cell_type": "code",
   "execution_count": 45,
   "id": "6b7cec15",
   "metadata": {},
   "outputs": [
    {
     "data": {
      "text/plain": [
       "10000.0"
      ]
     },
     "execution_count": 45,
     "metadata": {},
     "output_type": "execute_result"
    }
   ],
   "source": [
    "#want div to be 5 digit number\n",
    "div = div/10\n",
    "div"
   ]
  },
  {
   "cell_type": "code",
   "execution_count": 46,
   "id": "dfe5c25f",
   "metadata": {},
   "outputs": [
    {
     "data": {
      "text/plain": [
       "50000.0"
      ]
     },
     "execution_count": 46,
     "metadata": {},
     "output_type": "execute_result"
    }
   ],
   "source": [
    "#first number \n",
    "div*5"
   ]
  },
  {
   "cell_type": "code",
   "execution_count": 47,
   "id": "3aaee6de",
   "metadata": {},
   "outputs": [
    {
     "data": {
      "text/plain": [
       "52345.0"
      ]
     },
     "execution_count": 47,
     "metadata": {},
     "output_type": "execute_result"
    }
   ],
   "source": [
    "div*5 +23455//10"
   ]
  },
  {
   "cell_type": "markdown",
   "id": "40fc2fdc",
   "metadata": {},
   "source": [
    "## Problem 38: Pandigital Multiples <a id='problem38'></a>\n",
    "Take the number $192$ and multiply it by each of $1, 2$, and $3$:\n",
    "\n",
    "$$192 \\times 1 = 192\\\\\n",
    "192 \\times 2 = 384\\\\\n",
    "192 \\times 3 = 576$$\n",
    "By concatenating each product we get the $1$ to $9$ pandigital, $192384576$. We will call $192384576$ the concatenated product of $192$ and $(1,2,3)$\n",
    "\n",
    "The same can be achieved by starting with 9 and multiplying by $1, 2, 3, 4$, and $5$, giving the pandigital, $918273645$, which is the concatenated product of $9$ and $(1,2,3,4,5)$.\n",
    "\n",
    "What is the largest $1$ to $9$ pandigital $9$-digit number that can be formed as the concatenated product of an integer with $(1,2, ... , n)$ where $n > 1$?"
   ]
  },
  {
   "cell_type": "markdown",
   "id": "c1d44cde",
   "metadata": {},
   "source": [
    "### Solution <a id='solution38'></a>"
   ]
  },
  {
   "cell_type": "code",
   "execution_count": 48,
   "id": "b899f4d6",
   "metadata": {},
   "outputs": [
    {
     "name": "stdout",
     "output_type": "stream",
     "text": [
      "Calculated time of execution is -772.7902767658234 .\n"
     ]
    }
   ],
   "source": [
    "#time at the start of program execution\n",
    "start = time.time()\n",
    "\n",
    "#create function\n",
    "def get_length_int(num):\n",
    "    '''Function will give length of the integer'''\n",
    "    # length starts with 1\n",
    "    l = 1\n",
    "    # div = 10\n",
    "    div = 10\n",
    "    #number greater than div\n",
    "    while num > div:\n",
    "        #keep multiplying div until it passes the number\n",
    "        div*=10\n",
    "        l+=1\n",
    "    return l\n",
    "\n",
    "\n",
    "#printing the total execution time\n",
    "print('Calculated time of execution is', end - start, '.')"
   ]
  },
  {
   "cell_type": "code",
   "execution_count": 49,
   "id": "8566fc18",
   "metadata": {},
   "outputs": [
    {
     "name": "stdout",
     "output_type": "stream",
     "text": [
      "Calculated time of execution is -773.8149538040161 .\n"
     ]
    }
   ],
   "source": [
    "#time at the start of program execution\n",
    "start = time.time()\n",
    "\n",
    "def concat_num(nums):\n",
    "    '''Function for concatentated number'''\n",
    "    c_num = nums[0]\n",
    "    for num in nums[1:]:\n",
    "        c_num = c_num*10**get_length_int(num)+num\n",
    "    return c_num\n",
    "\n",
    "\n",
    "#printing the total execution time\n",
    "print('Calculated time of execution is', end - start, '.')"
   ]
  },
  {
   "cell_type": "code",
   "execution_count": 50,
   "id": "7abf91d8",
   "metadata": {},
   "outputs": [
    {
     "name": "stdout",
     "output_type": "stream",
     "text": [
      "Calculated time of execution is -775.021812915802 .\n"
     ]
    }
   ],
   "source": [
    "#time at the start of program execution\n",
    "start = time.time()\n",
    "\n",
    "def get_digit_from_num(num):\n",
    "    #create list\n",
    "    list = []\n",
    "    while num >= 10:\n",
    "        d = num%10\n",
    "        list.append(d)\n",
    "        #change original number\n",
    "        num=num//10\n",
    "    list.append(num)\n",
    "    return list[::-1]\n",
    "\n",
    "#printing the total execution time\n",
    "print('Calculated time of execution is', end - start, '.')"
   ]
  },
  {
   "cell_type": "code",
   "execution_count": 51,
   "id": "99f38d93",
   "metadata": {},
   "outputs": [
    {
     "data": {
      "text/plain": [
       "[3, 4, 5, 5]"
      ]
     },
     "execution_count": 51,
     "metadata": {},
     "output_type": "execute_result"
    }
   ],
   "source": [
    "get_digit_from_num(3455)"
   ]
  },
  {
   "cell_type": "code",
   "execution_count": 52,
   "id": "789b0650",
   "metadata": {},
   "outputs": [],
   "source": [
    "#create a function to determine if the number is pandigital 9 digit number\n",
    "def is_pan_digit(num):\n",
    "    return sorted(get_digit_from_num(num))==[1,2,3,4,5,6,7,8,9]"
   ]
  },
  {
   "cell_type": "code",
   "execution_count": 53,
   "id": "0ff44489",
   "metadata": {},
   "outputs": [
    {
     "data": {
      "text/plain": [
       "True"
      ]
     },
     "execution_count": 53,
     "metadata": {},
     "output_type": "execute_result"
    }
   ],
   "source": [
    "is_pan_digit(918273645)"
   ]
  },
  {
   "cell_type": "code",
   "execution_count": 54,
   "id": "f9cef72d",
   "metadata": {},
   "outputs": [],
   "source": [
    "#create empty list\n",
    "pan_list = []\n",
    "#set range\n",
    "for num in range(2, 9999):\n",
    "    n = 2\n",
    "    con_num = num\n",
    "    #number less then 9\n",
    "    while get_length_int(con_num) < 9:\n",
    "        con_num = concat_num([con_num, num*n])\n",
    "        n = n+1\n",
    "    if is_pan_digit(con_num):\n",
    "        pan_list.append(con_num)"
   ]
  },
  {
   "cell_type": "code",
   "execution_count": 55,
   "id": "ecc3c140",
   "metadata": {},
   "outputs": [
    {
     "name": "stdout",
     "output_type": "stream",
     "text": [
      "The largest 1 to 9 pandigital 9-digit number that can be formed as the concatenated product of an integer with (1,2, ... , n) where n > 1 is 932718654 .\n"
     ]
    }
   ],
   "source": [
    "print('The largest 1 to 9 pandigital 9-digit number that can be formed as the concatenated product of an integer with (1,2, ... , n) where n > 1 is'\n",
    "      ,max(pan_list),'.')"
   ]
  }
 ],
 "metadata": {
  "kernelspec": {
   "display_name": "Python 3 (ipykernel)",
   "language": "python",
   "name": "python3"
  },
  "language_info": {
   "codemirror_mode": {
    "name": "ipython",
    "version": 3
   },
   "file_extension": ".py",
   "mimetype": "text/x-python",
   "name": "python",
   "nbconvert_exporter": "python",
   "pygments_lexer": "ipython3",
   "version": "3.9.7"
  }
 },
 "nbformat": 4,
 "nbformat_minor": 5
}
